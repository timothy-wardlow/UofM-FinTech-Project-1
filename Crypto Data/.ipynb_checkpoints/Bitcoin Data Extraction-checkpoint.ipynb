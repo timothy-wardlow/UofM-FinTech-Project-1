{
 "cells": [
  {
   "cell_type": "code",
   "execution_count": 67,
   "id": "863e1fd1",
   "metadata": {},
   "outputs": [],
   "source": [
    "import pandas as pd\n",
    "\n",
    "#imported CoinGecko API\n",
    "from pycoingecko import CoinGeckoAPI\n",
    "\n",
    "#Create Object Instance\n",
    "cg = CoinGeckoAPI()"
   ]
  },
  {
   "cell_type": "code",
   "execution_count": 68,
   "id": "37fbf711",
   "metadata": {},
   "outputs": [],
   "source": [
    "current_bitcoin_price = cg.get_price(ids='bitcoin', vs_currencies='usd')\n"
   ]
  },
  {
   "cell_type": "code",
   "execution_count": 72,
   "id": "6a6963cb",
   "metadata": {},
   "outputs": [],
   "source": [
    "btc_data = cg.get_coin_market_chart_by_id(id = 'bitcoin', \n",
    "                               vs_currency = 'usd',\n",
    "                               days = 'max',\n",
    "                               interval = 'daily'                         \n",
    "                              )\n",
    "\n",
    "#To create the dataframe,columns of each dataset must be created \n",
    "dates = []\n",
    "dict_of_btc_data = {}\n",
    "for item in btc_data.get('prices'):\n",
    "     dates.append(item[0])\n",
    "dict_of_btc_data['Date'] = dates           \n",
    "\n",
    "for key in btc_data:  \n",
    "    for item in btc_data.get(key):\n",
    "        values.append(item[1])\n",
    "    dict_of_btc_data[key] = values\n",
    "    values = []\n",
    "\n",
    "btc_df = pd.DataFrame(dict_of_btc_data)\n",
    "\n",
    "btc_df.to_csv('Bitcoin_Data.csv')  "
   ]
  },
  {
   "cell_type": "code",
   "execution_count": null,
   "id": "5d2b44d9",
   "metadata": {},
   "outputs": [],
   "source": []
  },
  {
   "cell_type": "code",
   "execution_count": null,
   "id": "95ea194b",
   "metadata": {},
   "outputs": [],
   "source": []
  }
 ],
 "metadata": {
  "kernelspec": {
   "display_name": "Python [conda env:pyvisenv] *",
   "language": "python",
   "name": "conda-env-pyvisenv-py"
  },
  "language_info": {
   "codemirror_mode": {
    "name": "ipython",
    "version": 3
   },
   "file_extension": ".py",
   "mimetype": "text/x-python",
   "name": "python",
   "nbconvert_exporter": "python",
   "pygments_lexer": "ipython3",
   "version": "3.7.11"
  }
 },
 "nbformat": 4,
 "nbformat_minor": 5
}
