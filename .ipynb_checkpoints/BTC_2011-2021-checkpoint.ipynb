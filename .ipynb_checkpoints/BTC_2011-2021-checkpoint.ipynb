{
 "cells": [
  {
   "cell_type": "code",
   "execution_count": 57,
   "id": "596f5cdd",
   "metadata": {},
   "outputs": [],
   "source": [
    "import requests\n",
    "import os\n",
    "import pandas as pd\n",
    "from pathlib import Path\n",
    "from pycoingecko import CoinGeckoAPI"
   ]
  },
  {
   "cell_type": "code",
   "execution_count": 58,
   "id": "bf3cafb4",
   "metadata": {},
   "outputs": [],
   "source": [
    "cg = CoinGeckoAPI()"
   ]
  },
  {
   "cell_type": "code",
   "execution_count": null,
   "id": "1363419d",
   "metadata": {},
   "outputs": [],
   "source": []
  },
  {
   "cell_type": "code",
   "execution_count": 62,
   "id": "a3dfd6f2",
   "metadata": {},
   "outputs": [],
   "source": [
    "cg_data = cg.get_coin_market_chart_by_id(id = 'bitcoin',\n",
    "                               vs_currency = 'usd',\n",
    "                               days = '5',\n",
    "                               interval = 'daily'\n",
    "                              )"
   ]
  },
  {
   "cell_type": "code",
   "execution_count": 64,
   "id": "22d2710b",
   "metadata": {},
   "outputs": [
    {
     "data": {
      "text/plain": [
       "{'prices': [[1644105600000, 41493.690050910525],\n",
       "  [1644192000000, 42475.543220951215],\n",
       "  [1644278400000, 43910.929986443094],\n",
       "  [1644364800000, 44184.447511676175],\n",
       "  [1644451200000, 44383.88805541707],\n",
       "  [1644459657000, 44347.33825328214]],\n",
       " 'market_caps': [[1644105600000, 786295053042.2418],\n",
       "  [1644192000000, 804942041477.0581],\n",
       "  [1644278400000, 833392518214.8341],\n",
       "  [1644364800000, 837406846076.2306],\n",
       "  [1644451200000, 841339973338.8694],\n",
       "  [1644459657000, 841066471499.9485]],\n",
       " 'total_volumes': [[1644105600000, 16752051696.248552],\n",
       "  [1644192000000, 13206494654.908047],\n",
       "  [1644278400000, 24171856714.475758],\n",
       "  [1644364800000, 29024977264.932137],\n",
       "  [1644451200000, 19780565063.098923],\n",
       "  [1644459657000, 19068471019.146988]]}"
      ]
     },
     "execution_count": 64,
     "metadata": {},
     "output_type": "execute_result"
    }
   ],
   "source": [
    "cg_data"
   ]
  },
  {
   "cell_type": "code",
   "execution_count": null,
   "id": "88960144",
   "metadata": {},
   "outputs": [],
   "source": []
  },
  {
   "cell_type": "code",
   "execution_count": 76,
   "id": "fe1b9910",
   "metadata": {},
   "outputs": [],
   "source": [
    "cg_df = pd.DataFrame.from_dict(cg_data,orient='index').transpose()\n"
   ]
  },
  {
   "cell_type": "code",
   "execution_count": 77,
   "id": "1776a263",
   "metadata": {},
   "outputs": [
    {
     "data": {
      "text/html": [
       "<div>\n",
       "<style scoped>\n",
       "    .dataframe tbody tr th:only-of-type {\n",
       "        vertical-align: middle;\n",
       "    }\n",
       "\n",
       "    .dataframe tbody tr th {\n",
       "        vertical-align: top;\n",
       "    }\n",
       "\n",
       "    .dataframe thead th {\n",
       "        text-align: right;\n",
       "    }\n",
       "</style>\n",
       "<table border=\"1\" class=\"dataframe\">\n",
       "  <thead>\n",
       "    <tr style=\"text-align: right;\">\n",
       "      <th></th>\n",
       "      <th>prices</th>\n",
       "      <th>market_caps</th>\n",
       "      <th>total_volumes</th>\n",
       "    </tr>\n",
       "  </thead>\n",
       "  <tbody>\n",
       "    <tr>\n",
       "      <th>0</th>\n",
       "      <td>[1644105600000, 41493.690050910525]</td>\n",
       "      <td>[1644105600000, 786295053042.2418]</td>\n",
       "      <td>[1644105600000, 16752051696.248552]</td>\n",
       "    </tr>\n",
       "    <tr>\n",
       "      <th>1</th>\n",
       "      <td>[1644192000000, 42475.543220951215]</td>\n",
       "      <td>[1644192000000, 804942041477.0581]</td>\n",
       "      <td>[1644192000000, 13206494654.908047]</td>\n",
       "    </tr>\n",
       "    <tr>\n",
       "      <th>2</th>\n",
       "      <td>[1644278400000, 43910.929986443094]</td>\n",
       "      <td>[1644278400000, 833392518214.8341]</td>\n",
       "      <td>[1644278400000, 24171856714.475758]</td>\n",
       "    </tr>\n",
       "    <tr>\n",
       "      <th>3</th>\n",
       "      <td>[1644364800000, 44184.447511676175]</td>\n",
       "      <td>[1644364800000, 837406846076.2306]</td>\n",
       "      <td>[1644364800000, 29024977264.932137]</td>\n",
       "    </tr>\n",
       "    <tr>\n",
       "      <th>4</th>\n",
       "      <td>[1644451200000, 44383.88805541707]</td>\n",
       "      <td>[1644451200000, 841339973338.8694]</td>\n",
       "      <td>[1644451200000, 19780565063.098923]</td>\n",
       "    </tr>\n",
       "    <tr>\n",
       "      <th>5</th>\n",
       "      <td>[1644459657000, 44347.33825328214]</td>\n",
       "      <td>[1644459657000, 841066471499.9485]</td>\n",
       "      <td>[1644459657000, 19068471019.146988]</td>\n",
       "    </tr>\n",
       "  </tbody>\n",
       "</table>\n",
       "</div>"
      ],
      "text/plain": [
       "                                prices                         market_caps  \\\n",
       "0  [1644105600000, 41493.690050910525]  [1644105600000, 786295053042.2418]   \n",
       "1  [1644192000000, 42475.543220951215]  [1644192000000, 804942041477.0581]   \n",
       "2  [1644278400000, 43910.929986443094]  [1644278400000, 833392518214.8341]   \n",
       "3  [1644364800000, 44184.447511676175]  [1644364800000, 837406846076.2306]   \n",
       "4   [1644451200000, 44383.88805541707]  [1644451200000, 841339973338.8694]   \n",
       "5   [1644459657000, 44347.33825328214]  [1644459657000, 841066471499.9485]   \n",
       "\n",
       "                         total_volumes  \n",
       "0  [1644105600000, 16752051696.248552]  \n",
       "1  [1644192000000, 13206494654.908047]  \n",
       "2  [1644278400000, 24171856714.475758]  \n",
       "3  [1644364800000, 29024977264.932137]  \n",
       "4  [1644451200000, 19780565063.098923]  \n",
       "5  [1644459657000, 19068471019.146988]  "
      ]
     },
     "execution_count": 77,
     "metadata": {},
     "output_type": "execute_result"
    }
   ],
   "source": [
    "cg_df"
   ]
  },
  {
   "cell_type": "code",
   "execution_count": null,
   "id": "8db3fe1c",
   "metadata": {},
   "outputs": [],
   "source": []
  }
 ],
 "metadata": {
  "kernelspec": {
   "display_name": "Python 3 (ipykernel)",
   "language": "python",
   "name": "python3"
  },
  "language_info": {
   "codemirror_mode": {
    "name": "ipython",
    "version": 3
   },
   "file_extension": ".py",
   "mimetype": "text/x-python",
   "name": "python",
   "nbconvert_exporter": "python",
   "pygments_lexer": "ipython3",
   "version": "3.9.7"
  }
 },
 "nbformat": 4,
 "nbformat_minor": 5
}
