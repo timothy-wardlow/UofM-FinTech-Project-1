{
 "cells": [
  {
   "cell_type": "code",
   "execution_count": 102,
   "id": "3f422839",
   "metadata": {},
   "outputs": [],
   "source": [
    "# Import libraries\n",
    "import requests\n",
    "from bs4 import BeautifulSoup\n",
    "import pandas as pd\n",
    "from datetime import datetime\n",
    "import pandas as pd\n"
   ]
  },
  {
   "cell_type": "code",
   "execution_count": 103,
   "id": "cb479007",
   "metadata": {},
   "outputs": [
    {
     "name": "stdout",
     "output_type": "stream",
     "text": [
      "<Response [200]>\n"
     ]
    }
   ],
   "source": [
    "#Create an URL object\n",
    "url = 'https://www.usinflationcalculator.com/inflation/consumer-price-index-and-annual-percent-changes-from-1913-to-2008/'\n",
    "\n",
    "# Create object page\n",
    "page = requests.get(url)\n",
    "\n",
    "print(page)"
   ]
  },
  {
   "cell_type": "code",
   "execution_count": 104,
   "id": "0ba2b07e",
   "metadata": {},
   "outputs": [],
   "source": [
    "# parser-lxml = Change html to Python friendly format\n",
    "# Obtain page's information\n",
    "soup = BeautifulSoup(page.content, 'html.parser')\n",
    "#search and select data using CSS tags for the CPI data_table\n",
    "title_table_data = soup.select('table > tbody > tr > td > strong')\n",
    "table_data = soup.select('table > tbody > tr > td')\n",
    "main_data_table = table_data[31:1775]\n",
    "\n",
    "#first create columns of the data\n",
    "col_list = []\n",
    "dates = []\n",
    "cpi_dict = {}\n",
    "annual_cpi = []\n",
    "percent_change_cpi = []\n",
    "for item in title_table_data[:18]:\n",
    "    col_list.append( item.get_text() )\n",
    "\n",
    "    \n",
    "for item in main_data_table[::16]:\n",
    "    dates.append( item.get_text() )\n",
    "\n",
    "\n",
    "for item in main_data_table[1::16]:\n",
    "    annual_cpi.append( item.get_text() )\n",
    "\n",
    "cpi_dict['Year'] = dates\n",
    "cpi_dict['Annual CPI'] = annual_cpi\n",
    "\n",
    "\n",
    "\n",
    "cpi_df = pd.DataFrame(cpi_dict)\n",
    "\n",
    "\n",
    "cpi_df.to_csv('Annual_CPI_Data.csv')"
   ]
  },
  {
   "cell_type": "code",
   "execution_count": null,
   "id": "30cb0fc9",
   "metadata": {},
   "outputs": [],
   "source": []
  },
  {
   "cell_type": "code",
   "execution_count": null,
   "id": "39205e95",
   "metadata": {},
   "outputs": [],
   "source": []
  },
  {
   "cell_type": "code",
   "execution_count": null,
   "id": "66ba0297",
   "metadata": {},
   "outputs": [],
   "source": []
  },
  {
   "cell_type": "code",
   "execution_count": null,
   "id": "30f5f121",
   "metadata": {},
   "outputs": [],
   "source": []
  }
 ],
 "metadata": {
  "kernelspec": {
   "display_name": "Python [conda env:pyvisenv] *",
   "language": "python",
   "name": "conda-env-pyvisenv-py"
  },
  "language_info": {
   "codemirror_mode": {
    "name": "ipython",
    "version": 3
   },
   "file_extension": ".py",
   "mimetype": "text/x-python",
   "name": "python",
   "nbconvert_exporter": "python",
   "pygments_lexer": "ipython3",
   "version": "3.7.11"
  }
 },
 "nbformat": 4,
 "nbformat_minor": 5
}
